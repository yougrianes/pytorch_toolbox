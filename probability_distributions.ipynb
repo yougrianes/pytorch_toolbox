{
 "cells": [
  {
   "attachments": {},
   "cell_type": "markdown",
   "metadata": {},
   "source": [
    "There are different types of probability distributions, including normal distribution, binomial distribution, multinomial distribution and Bernoulli distribution."
   ]
  },
  {
   "attachments": {},
   "cell_type": "markdown",
   "metadata": {},
   "source": [
    "weight initialization"
   ]
  },
  {
   "cell_type": "code",
   "execution_count": 16,
   "metadata": {},
   "outputs": [
    {
     "data": {
      "text/plain": [
       "<torch._C.Generator at 0x29a49d280f0>"
      ]
     },
     "execution_count": 16,
     "metadata": {},
     "output_type": "execute_result"
    }
   ],
   "source": [
    "import torch\n",
    "\n",
    "torch.manual_seed(1234)"
   ]
  },
  {
   "cell_type": "code",
   "execution_count": 17,
   "metadata": {},
   "outputs": [
    {
     "data": {
      "text/plain": [
       "tensor([[-0.1117, -0.4966,  0.1631, -0.8817],\n",
       "        [ 0.0539,  0.6684, -0.0597, -0.4675],\n",
       "        [-0.2153,  0.8840, -0.7584, -0.3689],\n",
       "        [-0.3424, -1.4020,  0.3206, -1.0219]])"
      ]
     },
     "execution_count": 17,
     "metadata": {},
     "output_type": "execute_result"
    }
   ],
   "source": [
    "torch.manual_seed(1234)\n",
    "torch.randn(4,4)"
   ]
  },
  {
   "attachments": {},
   "cell_type": "markdown",
   "metadata": {},
   "source": [
    "In a continuous uniform distribution, each number has an equal chance of being selected."
   ]
  },
  {
   "cell_type": "code",
   "execution_count": 18,
   "metadata": {},
   "outputs": [
    {
     "data": {
      "text/plain": [
       "tensor([[0.2837, 0.6567, 0.2388, 0.7313],\n",
       "        [0.6012, 0.3043, 0.2548, 0.6294],\n",
       "        [0.9665, 0.7399, 0.4517, 0.4757],\n",
       "        [0.7842, 0.1525, 0.6662, 0.3343]])"
      ]
     },
     "execution_count": 18,
     "metadata": {},
     "output_type": "execute_result"
    }
   ],
   "source": [
    "torch.Tensor(4,4).uniform_(0,1)"
   ]
  },
  {
   "attachments": {},
   "cell_type": "markdown",
   "metadata": {},
   "source": [
    "In statistics, the Bernoulli distribution is considered as the discrete probability distribution, which has two possible outcomes. If the event happens, then the value is 1, and if the event does not happen, then the value is 0."
   ]
  },
  {
   "cell_type": "code",
   "execution_count": 19,
   "metadata": {},
   "outputs": [
    {
     "data": {
      "text/plain": [
       "tensor([[0., 0., 0., 0.],\n",
       "        [1., 0., 1., 0.],\n",
       "        [1., 0., 1., 1.],\n",
       "        [0., 0., 0., 0.]])"
      ]
     },
     "execution_count": 19,
     "metadata": {},
     "output_type": "execute_result"
    }
   ],
   "source": [
    "torch.bernoulli(torch.Tensor(4,4).uniform_(0,1))"
   ]
  },
  {
   "cell_type": "code",
   "execution_count": 20,
   "metadata": {},
   "outputs": [
    {
     "data": {
      "text/plain": [
       "tensor([4, 5, 8, 6, 2])"
      ]
     },
     "execution_count": 20,
     "metadata": {},
     "output_type": "execute_result"
    }
   ],
   "source": [
    "torch.Tensor([10,23,40,12,326,125,87,32,87,2,6,])\n",
    "torch.multinomial(torch.tensor([10,23,40,12,326,125,87,32,87,2,6]).type(torch.DoubleTensor), 5)"
   ]
  },
  {
   "attachments": {},
   "cell_type": "markdown",
   "metadata": {},
   "source": [
    ".....and returns tensor's index value"
   ]
  },
  {
   "cell_type": "code",
   "execution_count": 21,
   "metadata": {},
   "outputs": [
    {
     "data": {
      "text/plain": [
       "tensor([1.9847, 3.3247, 3.2480, 5.1080, 5.1411, 5.7281, 7.2094, 8.0814, 8.9344,\n",
       "        9.9932])"
      ]
     },
     "execution_count": 21,
     "metadata": {},
     "output_type": "execute_result"
    }
   ],
   "source": [
    "torch.normal(mean=torch.arange(1.,11.), std=torch.arange(1,0,-0.1))"
   ]
  },
  {
   "cell_type": "code",
   "execution_count": 22,
   "metadata": {},
   "outputs": [
    {
     "data": {
      "text/plain": [
       "tensor([ 1.2300, -1.4367,  9.8666,  2.6935,  1.9372])"
      ]
     },
     "execution_count": 22,
     "metadata": {},
     "output_type": "execute_result"
    }
   ],
   "source": [
    "torch.normal(mean=0.5, std=torch.arange(1.,6.))"
   ]
  },
  {
   "cell_type": "code",
   "execution_count": 23,
   "metadata": {},
   "outputs": [
    {
     "data": {
      "text/plain": [
       "tensor([0.2254])"
      ]
     },
     "execution_count": 23,
     "metadata": {},
     "output_type": "execute_result"
    }
   ],
   "source": [
    "torch.normal(mean=0.5,std=torch.arange(0.2,0.6))"
   ]
  },
  {
   "cell_type": "code",
   "execution_count": 24,
   "metadata": {},
   "outputs": [
    {
     "data": {
      "text/plain": [
       "tensor([0.2000, 1.2000])"
      ]
     },
     "execution_count": 24,
     "metadata": {},
     "output_type": "execute_result"
    }
   ],
   "source": [
    "torch.arange(0.2,1.6)"
   ]
  },
  {
   "cell_type": "code",
   "execution_count": 25,
   "metadata": {},
   "outputs": [],
   "source": [
    "from torch.autograd import Variable"
   ]
  },
  {
   "cell_type": "code",
   "execution_count": 26,
   "metadata": {},
   "outputs": [
    {
     "data": {
      "text/plain": [
       "tensor([[1., 1.],\n",
       "        [1., 1.]], requires_grad=True)"
      ]
     },
     "execution_count": 26,
     "metadata": {},
     "output_type": "execute_result"
    }
   ],
   "source": [
    "Variable(torch.ones(2,2),requires_grad=True)"
   ]
  },
  {
   "cell_type": "code",
   "execution_count": 27,
   "metadata": {},
   "outputs": [],
   "source": [
    "a, b = 12, 23\n",
    "x1 = Variable(torch.randn(a, b), requires_grad=True)\n",
    "x2 = Variable(torch.randn(a, b), requires_grad=True)\n",
    "x3 = Variable(torch.randn(a, b), requires_grad=True)"
   ]
  },
  {
   "cell_type": "code",
   "execution_count": 28,
   "metadata": {},
   "outputs": [
    {
     "name": "stdout",
     "output_type": "stream",
     "text": [
      "tensor(3287.6458, grad_fn=<SumBackward0>)\n"
     ]
    }
   ],
   "source": [
    "c = x1 * x2\n",
    "d = a + x3\n",
    "e =  torch.sum(d)\n",
    "\n",
    "e.backward()\n",
    "\n",
    "print(e)"
   ]
  },
  {
   "attachments": {},
   "cell_type": "markdown",
   "metadata": {},
   "source": [
    "create basic statistics(partially with gpu accelerations)"
   ]
  },
  {
   "cell_type": "code",
   "execution_count": 30,
   "metadata": {},
   "outputs": [
    {
     "data": {
      "text/plain": [
       "tensor(110.8571, dtype=torch.float64)"
      ]
     },
     "execution_count": 30,
     "metadata": {},
     "output_type": "execute_result"
    }
   ],
   "source": [
    "torch.mean(torch.tensor([10,120,123,5,3,5,457,34,56,45,536,82,70,6]).type(torch.DoubleTensor))"
   ]
  },
  {
   "cell_type": "code",
   "execution_count": 31,
   "metadata": {},
   "outputs": [],
   "source": [
    "d = torch.randn(4,5)"
   ]
  },
  {
   "cell_type": "code",
   "execution_count": 32,
   "metadata": {},
   "outputs": [
    {
     "data": {
      "text/plain": [
       "tensor([-0.0485,  0.5087, -0.2849,  0.5082,  1.1420])"
      ]
     },
     "execution_count": 32,
     "metadata": {},
     "output_type": "execute_result"
    }
   ],
   "source": [
    "torch.mean(d,dim=0)"
   ]
  },
  {
   "cell_type": "code",
   "execution_count": 33,
   "metadata": {},
   "outputs": [
    {
     "data": {
      "text/plain": [
       "tensor([ 1.0723,  0.2804, -0.2885,  0.3961])"
      ]
     },
     "execution_count": 33,
     "metadata": {},
     "output_type": "execute_result"
    }
   ],
   "source": [
    "torch.mean(d,dim=1)"
   ]
  },
  {
   "cell_type": "code",
   "execution_count": 34,
   "metadata": {},
   "outputs": [
    {
     "data": {
      "text/plain": [
       "torch.return_types.median(\n",
       "values=tensor([ 0.0030, -0.5807, -0.6911,  0.5924,  1.0300]),\n",
       "indices=tensor([2, 1, 1, 0, 2]))"
      ]
     },
     "execution_count": 34,
     "metadata": {},
     "output_type": "execute_result"
    }
   ],
   "source": [
    "torch.median(d,dim=0)"
   ]
  },
  {
   "cell_type": "code",
   "execution_count": 35,
   "metadata": {},
   "outputs": [
    {
     "data": {
      "text/plain": [
       "torch.return_types.median(\n",
       "values=tensor([ 0.7223, -0.5807, -0.3527,  0.3602]),\n",
       "indices=tensor([2, 1, 3, 0]))"
      ]
     },
     "execution_count": 35,
     "metadata": {},
     "output_type": "execute_result"
    }
   ],
   "source": [
    "torch.median(d,dim=1)"
   ]
  },
  {
   "cell_type": "code",
   "execution_count": 36,
   "metadata": {},
   "outputs": [
    {
     "data": {
      "text/plain": [
       "torch.return_types.mode(\n",
       "values=tensor([ 0.2778, -0.8351, -1.1132, -0.9132]),\n",
       "indices=tensor([0, 0, 1, 4]))"
      ]
     },
     "execution_count": 36,
     "metadata": {},
     "output_type": "execute_result"
    }
   ],
   "source": [
    "torch.mode(d)"
   ]
  },
  {
   "cell_type": "code",
   "execution_count": 37,
   "metadata": {},
   "outputs": [
    {
     "data": {
      "text/plain": [
       "torch.return_types.mode(\n",
       "values=tensor([ 0.2778, -0.8351, -1.1132, -0.9132]),\n",
       "indices=tensor([0, 0, 1, 4]))"
      ]
     },
     "execution_count": 37,
     "metadata": {},
     "output_type": "execute_result"
    }
   ],
   "source": [
    "torch.mode(d,dim=1)"
   ]
  },
  {
   "cell_type": "code",
   "execution_count": 38,
   "metadata": {},
   "outputs": [
    {
     "data": {
      "text/plain": [
       "torch.return_types.mode(\n",
       "values=tensor([-0.8351, -1.1132, -1.0094, -0.3527, -0.9132]),\n",
       "indices=tensor([1, 2, 2, 2, 3]))"
      ]
     },
     "execution_count": 38,
     "metadata": {},
     "output_type": "execute_result"
    }
   ],
   "source": [
    "torch.mode(d,dim=0)"
   ]
  },
  {
   "cell_type": "code",
   "execution_count": 39,
   "metadata": {},
   "outputs": [
    {
     "data": {
      "text/plain": [
       "tensor(1.0971)"
      ]
     },
     "execution_count": 39,
     "metadata": {},
     "output_type": "execute_result"
    }
   ],
   "source": [
    "torch.std(d)"
   ]
  },
  {
   "cell_type": "code",
   "execution_count": 40,
   "metadata": {},
   "outputs": [
    {
     "data": {
      "text/plain": [
       "tensor([0.5462, 1.5814, 0.7571, 0.6017, 1.4958])"
      ]
     },
     "execution_count": 40,
     "metadata": {},
     "output_type": "execute_result"
    }
   ],
   "source": [
    "torch.std(d,dim=0)"
   ]
  },
  {
   "cell_type": "code",
   "execution_count": 41,
   "metadata": {},
   "outputs": [
    {
     "data": {
      "text/plain": [
       "tensor([0.7614, 1.4425, 0.8700, 1.0632])"
      ]
     },
     "execution_count": 41,
     "metadata": {},
     "output_type": "execute_result"
    }
   ],
   "source": [
    "torch.std(d,dim=1)"
   ]
  },
  {
   "cell_type": "code",
   "execution_count": 42,
   "metadata": {},
   "outputs": [
    {
     "data": {
      "text/plain": [
       "tensor(1.2036)"
      ]
     },
     "execution_count": 42,
     "metadata": {},
     "output_type": "execute_result"
    }
   ],
   "source": [
    "torch.var(d)"
   ]
  },
  {
   "attachments": {},
   "cell_type": "markdown",
   "metadata": {},
   "source": [
    "gradient computation"
   ]
  },
  {
   "cell_type": "code",
   "execution_count": 43,
   "metadata": {},
   "outputs": [],
   "source": [
    "def forward(x):\n",
    "    return x * w"
   ]
  },
  {
   "cell_type": "code",
   "execution_count": 79,
   "metadata": {},
   "outputs": [
    {
     "name": "stdout",
     "output_type": "stream",
     "text": [
      "predict before training 4 tensor(4.)\n"
     ]
    }
   ],
   "source": [
    "import torch\n",
    "from torch.autograd import Variable\n",
    "\n",
    "x_data = [11. , 22. , 33.,44,55,66,77,88]\n",
    "y_data = [11. , 22. , 33.,44,55,66,77,88]\n",
    "\n",
    "w = Variable(torch.Tensor([1.0]), requires_grad = True)\n",
    "\n",
    "print(\"predict before training\", 4, forward(4).data[0])"
   ]
  },
  {
   "cell_type": "code",
   "execution_count": 80,
   "metadata": {},
   "outputs": [],
   "source": [
    "def loss(x,y):\n",
    "    y_pred = forward(x)\n",
    "    return (y_pred - y) * (y_pred - y)"
   ]
  },
  {
   "cell_type": "code",
   "execution_count": 81,
   "metadata": {},
   "outputs": [
    {
     "name": "stdout",
     "output_type": "stream",
     "text": [
      "\tgrad:  11.0 11.0 tensor(0.)\n",
      "\tgrad:  22.0 22.0 tensor(0.)\n",
      "\tgrad:  33.0 33.0 tensor(0.)\n",
      "\tgrad:  44 44 tensor(0.)\n",
      "\tgrad:  55 55 tensor(0.)\n",
      "\tgrad:  66 66 tensor(0.)\n",
      "\tgrad:  77 77 tensor(0.)\n",
      "\tgrad:  88 88 tensor(0.)\n",
      "progress:  0 tensor(0.)\n",
      "\tgrad:  11.0 11.0 tensor(0.)\n",
      "\tgrad:  22.0 22.0 tensor(0.)\n",
      "\tgrad:  33.0 33.0 tensor(0.)\n",
      "\tgrad:  44 44 tensor(0.)\n",
      "\tgrad:  55 55 tensor(0.)\n",
      "\tgrad:  66 66 tensor(0.)\n",
      "\tgrad:  77 77 tensor(0.)\n",
      "\tgrad:  88 88 tensor(0.)\n",
      "progress:  1 tensor(0.)\n",
      "\tgrad:  11.0 11.0 tensor(0.)\n",
      "\tgrad:  22.0 22.0 tensor(0.)\n",
      "\tgrad:  33.0 33.0 tensor(0.)\n",
      "\tgrad:  44 44 tensor(0.)\n",
      "\tgrad:  55 55 tensor(0.)\n",
      "\tgrad:  66 66 tensor(0.)\n",
      "\tgrad:  77 77 tensor(0.)\n",
      "\tgrad:  88 88 tensor(0.)\n",
      "progress:  2 tensor(0.)\n",
      "\tgrad:  11.0 11.0 tensor(0.)\n",
      "\tgrad:  22.0 22.0 tensor(0.)\n",
      "\tgrad:  33.0 33.0 tensor(0.)\n",
      "\tgrad:  44 44 tensor(0.)\n",
      "\tgrad:  55 55 tensor(0.)\n",
      "\tgrad:  66 66 tensor(0.)\n",
      "\tgrad:  77 77 tensor(0.)\n",
      "\tgrad:  88 88 tensor(0.)\n",
      "progress:  3 tensor(0.)\n",
      "\tgrad:  11.0 11.0 tensor(0.)\n",
      "\tgrad:  22.0 22.0 tensor(0.)\n",
      "\tgrad:  33.0 33.0 tensor(0.)\n",
      "\tgrad:  44 44 tensor(0.)\n",
      "\tgrad:  55 55 tensor(0.)\n",
      "\tgrad:  66 66 tensor(0.)\n",
      "\tgrad:  77 77 tensor(0.)\n",
      "\tgrad:  88 88 tensor(0.)\n",
      "progress:  4 tensor(0.)\n",
      "\tgrad:  11.0 11.0 tensor(0.)\n",
      "\tgrad:  22.0 22.0 tensor(0.)\n",
      "\tgrad:  33.0 33.0 tensor(0.)\n",
      "\tgrad:  44 44 tensor(0.)\n",
      "\tgrad:  55 55 tensor(0.)\n",
      "\tgrad:  66 66 tensor(0.)\n",
      "\tgrad:  77 77 tensor(0.)\n",
      "\tgrad:  88 88 tensor(0.)\n",
      "progress:  5 tensor(0.)\n",
      "\tgrad:  11.0 11.0 tensor(0.)\n",
      "\tgrad:  22.0 22.0 tensor(0.)\n",
      "\tgrad:  33.0 33.0 tensor(0.)\n",
      "\tgrad:  44 44 tensor(0.)\n",
      "\tgrad:  55 55 tensor(0.)\n",
      "\tgrad:  66 66 tensor(0.)\n",
      "\tgrad:  77 77 tensor(0.)\n",
      "\tgrad:  88 88 tensor(0.)\n",
      "progress:  6 tensor(0.)\n",
      "\tgrad:  11.0 11.0 tensor(0.)\n",
      "\tgrad:  22.0 22.0 tensor(0.)\n",
      "\tgrad:  33.0 33.0 tensor(0.)\n",
      "\tgrad:  44 44 tensor(0.)\n",
      "\tgrad:  55 55 tensor(0.)\n",
      "\tgrad:  66 66 tensor(0.)\n",
      "\tgrad:  77 77 tensor(0.)\n",
      "\tgrad:  88 88 tensor(0.)\n",
      "progress:  7 tensor(0.)\n",
      "\tgrad:  11.0 11.0 tensor(0.)\n",
      "\tgrad:  22.0 22.0 tensor(0.)\n",
      "\tgrad:  33.0 33.0 tensor(0.)\n",
      "\tgrad:  44 44 tensor(0.)\n",
      "\tgrad:  55 55 tensor(0.)\n",
      "\tgrad:  66 66 tensor(0.)\n",
      "\tgrad:  77 77 tensor(0.)\n",
      "\tgrad:  88 88 tensor(0.)\n",
      "progress:  8 tensor(0.)\n",
      "\tgrad:  11.0 11.0 tensor(0.)\n",
      "\tgrad:  22.0 22.0 tensor(0.)\n",
      "\tgrad:  33.0 33.0 tensor(0.)\n",
      "\tgrad:  44 44 tensor(0.)\n",
      "\tgrad:  55 55 tensor(0.)\n",
      "\tgrad:  66 66 tensor(0.)\n",
      "\tgrad:  77 77 tensor(0.)\n",
      "\tgrad:  88 88 tensor(0.)\n",
      "progress:  9 tensor(0.)\n"
     ]
    }
   ],
   "source": [
    "for epoch in range(10):\n",
    "    for x_val, y_val in zip(x_data, y_data):\n",
    "        l = loss(x_val, y_val)\n",
    "        l.backward()\n",
    "        print(\"\\tgrad: \",x_val, y_val, w.grad.data[0])\n",
    "        w.data = w.data - 0.01 * w.grad.data\n",
    "\n",
    "        # set gradient to zero after update w.data\n",
    "        w.grad.data.zero_()\n",
    "\n",
    "    print(\"progress: \", epoch, l.data[0])"
   ]
  },
  {
   "cell_type": "code",
   "execution_count": 82,
   "metadata": {},
   "outputs": [
    {
     "name": "stdout",
     "output_type": "stream",
     "text": [
      "predict after:  4 tensor(4.)\n"
     ]
    }
   ],
   "source": [
    "print(\"predict after: \", 4, forward(4).data[0])"
   ]
  },
  {
   "cell_type": "code",
   "execution_count": 78,
   "metadata": {},
   "outputs": [
    {
     "name": "stdout",
     "output_type": "stream",
     "text": [
      "Gradient of w1 w.r.t to Loss: -455.0\n",
      "Gradient of w2 w.r.t to Loss: -365.0\n",
      "Gradient of w3 w.r.t to Loss: -60.0\n",
      "Gradient of w4 w.r.t to Loss: -265.0\n"
     ]
    }
   ],
   "source": [
    "from torch import FloatTensor\n",
    "from torch.autograd import Variable\n",
    "\n",
    "a = Variable(FloatTensor([5]))\n",
    "\n",
    "weights = [Variable(FloatTensor([i]), requires_grad=True) for i in (12,53,91,73)]\n",
    "\n",
    "w1,w2,w3,w4  = weights\n",
    "\n",
    "b = w1*a\n",
    "c = w2*a\n",
    "d = w3*b + w4*c\n",
    "Loss = (10-d)\n",
    "\n",
    "Loss.backward()\n",
    "\n",
    "for index, weights in enumerate(weights, start = 1):\n",
    "    gradient, *_ = weights.grad.data \n",
    "    print(f\"Gradient of w{index} w.r.t to Loss: {gradient}\")"
   ]
  },
  {
   "attachments": {},
   "cell_type": "markdown",
   "metadata": {},
   "source": [
    "Matrix operations"
   ]
  },
  {
   "cell_type": "code",
   "execution_count": 83,
   "metadata": {},
   "outputs": [
    {
     "name": "stdout",
     "output_type": "stream",
     "text": [
      "torch.Size([4, 4])\n"
     ]
    }
   ],
   "source": [
    "x = Variable(torch.Tensor(4,4).uniform_(-4,5))\n",
    "y = Variable(torch.Tensor(4,4).uniform_(-3,2))\n",
    "\n",
    "z = torch.mm(x,y)\n",
    "print(z.size())"
   ]
  },
  {
   "cell_type": "code",
   "execution_count": 84,
   "metadata": {},
   "outputs": [
    {
     "data": {
      "text/plain": [
       "tensor([[-3.3983,  1.7528,  0.5627,  4.9053],\n",
       "        [ 3.8294, -4.6452,  4.2984,  4.5839],\n",
       "        [ 2.6059, -0.2551,  4.8466,  0.3225],\n",
       "        [ 0.2922, -0.2340,  2.6930, -0.4334]])"
      ]
     },
     "execution_count": 84,
     "metadata": {},
     "output_type": "execute_result"
    }
   ],
   "source": [
    "z = Variable(torch.Tensor(4,4).uniform_(-5,5))\n",
    "z"
   ]
  },
  {
   "cell_type": "code",
   "execution_count": 85,
   "metadata": {},
   "outputs": [
    {
     "name": "stdout",
     "output_type": "stream",
     "text": [
      "requires gradient: False\n",
      "Volatile: False\n",
      "gradient: None\n",
      "tensor([[-3.3983,  1.7528,  0.5627,  4.9053],\n",
      "        [ 3.8294, -4.6452,  4.2984,  4.5839],\n",
      "        [ 2.6059, -0.2551,  4.8466,  0.3225],\n",
      "        [ 0.2922, -0.2340,  2.6930, -0.4334]])\n"
     ]
    },
    {
     "name": "stderr",
     "output_type": "stream",
     "text": [
      "C:\\Users\\Administrator\\AppData\\Local\\Temp\\ipykernel_9920\\897670538.py:2: UserWarning: volatile was removed (Variable.volatile is always False)\n",
      "  print(f'Volatile: {z.volatile}')\n"
     ]
    }
   ],
   "source": [
    "print(f'requires gradient: {z.requires_grad}')\n",
    "print(f'Volatile: {z.volatile}')\n",
    "print(f'gradient: {z.grad}')\n",
    "print(z.data)"
   ]
  },
  {
   "attachments": {},
   "cell_type": "markdown",
   "metadata": {},
   "source": [
    "tensor operations. dimension of a matrix and a vector or scalar should be compatible."
   ]
  },
  {
   "cell_type": "code",
   "execution_count": 87,
   "metadata": {},
   "outputs": [
    {
     "data": {
      "text/plain": [
       "tensor([[0.1947, 0.2268, 0.9587, 0.2615],\n",
       "        [0.7256, 0.7673, 0.5667, 0.1863],\n",
       "        [0.4642, 0.4016, 0.9981, 0.8452],\n",
       "        [0.5569, 0.7666, 0.1084, 0.7874]])"
      ]
     },
     "execution_count": 87,
     "metadata": {},
     "output_type": "execute_result"
    }
   ],
   "source": [
    "\n",
    "mat1 = torch.FloatTensor(4,4).uniform_(0,1)\n",
    "mat1"
   ]
  },
  {
   "cell_type": "code",
   "execution_count": 88,
   "metadata": {},
   "outputs": [
    {
     "data": {
      "text/plain": [
       "tensor([[0.7348, 0.9939, 0.3580, 0.1682],\n",
       "        [0.9159, 0.9878, 0.5393, 0.6097],\n",
       "        [0.9861, 0.0763, 0.3469, 0.1317],\n",
       "        [0.7387, 0.8339, 0.0693, 0.4194],\n",
       "        [0.0466, 0.8690, 0.8990, 0.6630]])"
      ]
     },
     "execution_count": 88,
     "metadata": {},
     "output_type": "execute_result"
    }
   ],
   "source": [
    "\n",
    "mat2 = torch.FloatTensor(5,4).uniform_(0,1)\n",
    "mat2"
   ]
  },
  {
   "cell_type": "code",
   "execution_count": 89,
   "metadata": {},
   "outputs": [],
   "source": [
    "vec1 = torch.FloatTensor(4).uniform_(0,1)"
   ]
  },
  {
   "cell_type": "code",
   "execution_count": 90,
   "metadata": {},
   "outputs": [
    {
     "data": {
      "text/plain": [
       "tensor([[0.6947, 0.7268, 1.4587, 0.7615],\n",
       "        [1.2256, 1.2673, 1.0667, 0.6863],\n",
       "        [0.9642, 0.9016, 1.4981, 1.3452],\n",
       "        [1.0569, 1.2666, 0.6084, 1.2874]])"
      ]
     },
     "execution_count": 90,
     "metadata": {},
     "output_type": "execute_result"
    }
   ],
   "source": [
    "mat1+0.5"
   ]
  },
  {
   "cell_type": "code",
   "execution_count": 91,
   "metadata": {},
   "outputs": [
    {
     "data": {
      "text/plain": [
       "tensor([[-9.2652, -9.0061, -9.6420, -9.8318],\n",
       "        [-9.0841, -9.0122, -9.4607, -9.3903],\n",
       "        [-9.0139, -9.9237, -9.6531, -9.8683],\n",
       "        [-9.2613, -9.1661, -9.9307, -9.5806],\n",
       "        [-9.9534, -9.1310, -9.1010, -9.3370]])"
      ]
     },
     "execution_count": 91,
     "metadata": {},
     "output_type": "execute_result"
    }
   ],
   "source": [
    "mat2-10"
   ]
  },
  {
   "cell_type": "code",
   "execution_count": 92,
   "metadata": {},
   "outputs": [
    {
     "data": {
      "text/plain": [
       "tensor([0.4962, 0.4947, 0.8344, 0.6721])"
      ]
     },
     "execution_count": 92,
     "metadata": {},
     "output_type": "execute_result"
    }
   ],
   "source": [
    "vec1"
   ]
  },
  {
   "cell_type": "code",
   "execution_count": 93,
   "metadata": {},
   "outputs": [
    {
     "data": {
      "text/plain": [
       "tensor([[1.2309, 1.4886, 1.1925, 0.8403],\n",
       "        [1.4121, 1.4825, 1.3737, 1.2819],\n",
       "        [1.4822, 0.5709, 1.1813, 0.8039],\n",
       "        [1.2349, 1.3286, 0.9038, 1.0915],\n",
       "        [0.5428, 1.3636, 1.7334, 1.3352]])"
      ]
     },
     "execution_count": 93,
     "metadata": {},
     "output_type": "execute_result"
    }
   ],
   "source": [
    "mat2+vec1"
   ]
  },
  {
   "cell_type": "code",
   "execution_count": 96,
   "metadata": {},
   "outputs": [
    {
     "ename": "RuntimeError",
     "evalue": "The size of tensor a (5) must match the size of tensor b (4) at non-singleton dimension 0",
     "output_type": "error",
     "traceback": [
      "\u001b[1;31m---------------------------------------------------------------------------\u001b[0m",
      "\u001b[1;31mRuntimeError\u001b[0m                              Traceback (most recent call last)",
      "\u001b[1;32m~\\AppData\\Local\\Temp\\ipykernel_9920\\2734987785.py\u001b[0m in \u001b[0;36m<module>\u001b[1;34m\u001b[0m\n\u001b[1;32m----> 1\u001b[1;33m \u001b[0mmat2\u001b[0m\u001b[1;33m*\u001b[0m\u001b[0mmat1\u001b[0m\u001b[1;33m\u001b[0m\u001b[1;33m\u001b[0m\u001b[0m\n\u001b[0m",
      "\u001b[1;31mRuntimeError\u001b[0m: The size of tensor a (5) must match the size of tensor b (4) at non-singleton dimension 0"
     ]
    }
   ],
   "source": [
    "mat2*mat1"
   ]
  },
  {
   "cell_type": "code",
   "execution_count": 98,
   "metadata": {},
   "outputs": [
    {
     "data": {
      "text/plain": [
       "tensor([[1.1241, 1.2020, 1.6433, 0.8123],\n",
       "        [1.4850, 1.6498, 2.0423, 1.3595],\n",
       "        [0.4817, 0.5225, 1.3492, 0.6690],\n",
       "        [1.0147, 1.1568, 1.2955, 0.7374],\n",
       "        [1.4261, 1.5467, 1.5063, 1.4559]])"
      ]
     },
     "execution_count": 98,
     "metadata": {},
     "output_type": "execute_result"
    }
   ],
   "source": [
    "torch.mm(mat2, mat1)"
   ]
  },
  {
   "attachments": {},
   "cell_type": "markdown",
   "metadata": {},
   "source": [
    "we are going to use the most commonly used statistical distributions, their arguments in senarios of problems."
   ]
  },
  {
   "attachments": {},
   "cell_type": "markdown",
   "metadata": {},
   "source": [
    "the Bernoulli distribution is the special case of binomial distribution, in which the number of trials can be more than one.\n",
    "\n",
    "but in bernoulli distribution, the number of experiment or trials remains one."
   ]
  },
  {
   "cell_type": "code",
   "execution_count": 99,
   "metadata": {},
   "outputs": [],
   "source": [
    "from torch.distributions.bernoulli import Bernoulli\n",
    "\n",
    "dist = Bernoulli(torch.tensor([0.1,0.2,0.3,0.4,0.5,0.6,0.7,0.8,0.9]))"
   ]
  },
  {
   "cell_type": "code",
   "execution_count": 113,
   "metadata": {},
   "outputs": [
    {
     "data": {
      "text/plain": [
       "tensor([0., 1., 1., 0., 0., 0., 1., 0., 1.])"
      ]
     },
     "execution_count": 113,
     "metadata": {},
     "output_type": "execute_result"
    }
   ],
   "source": [
    "dist.sample()"
   ]
  },
  {
   "attachments": {},
   "cell_type": "markdown",
   "metadata": {},
   "source": [
    "beta distribution:\n"
   ]
  },
  {
   "cell_type": "code",
   "execution_count": 114,
   "metadata": {},
   "outputs": [
    {
     "data": {
      "text/plain": [
       "Beta()"
      ]
     },
     "execution_count": 114,
     "metadata": {},
     "output_type": "execute_result"
    }
   ],
   "source": [
    "from torch.distributions.beta import Beta\n",
    "dist = Beta(torch.tensor([0.5]), torch.tensor([0.5]))\n",
    "dist"
   ]
  },
  {
   "cell_type": "code",
   "execution_count": 116,
   "metadata": {},
   "outputs": [
    {
     "data": {
      "text/plain": [
       "tensor([0.2031])"
      ]
     },
     "execution_count": 116,
     "metadata": {},
     "output_type": "execute_result"
    }
   ],
   "source": [
    "dist.sample()"
   ]
  },
  {
   "cell_type": "code",
   "execution_count": 119,
   "metadata": {},
   "outputs": [
    {
     "data": {
      "text/plain": [
       "tensor([  0.,  15.,  89., 100.])"
      ]
     },
     "execution_count": 119,
     "metadata": {},
     "output_type": "execute_result"
    }
   ],
   "source": [
    "from torch.distributions.binomial import Binomial\n",
    "dist = Binomial(100, torch.tensor([0,0.2,0.8,1]))\n",
    "dist.sample()"
   ]
  },
  {
   "cell_type": "code",
   "execution_count": 133,
   "metadata": {},
   "outputs": [
    {
     "data": {
      "text/plain": [
       "Categorical(probs: torch.Size([10]))"
      ]
     },
     "execution_count": 133,
     "metadata": {},
     "output_type": "execute_result"
    }
   ],
   "source": [
    "from torch.distributions.categorical import Categorical\n",
    "\n",
    "dist = Categorical(torch.tensor([0.2,0.2,0.2,0.2,0.2,0.2,0.2,0.2,0.2,0.2]))\n",
    "dist"
   ]
  },
  {
   "cell_type": "code",
   "execution_count": 138,
   "metadata": {},
   "outputs": [
    {
     "data": {
      "text/plain": [
       "tensor(5)"
      ]
     },
     "execution_count": 138,
     "metadata": {},
     "output_type": "execute_result"
    }
   ],
   "source": [
    "dist.sample()"
   ]
  },
  {
   "cell_type": "code",
   "execution_count": 143,
   "metadata": {},
   "outputs": [
    {
     "data": {
      "text/plain": [
       "tensor([9.7408])"
      ]
     },
     "execution_count": 143,
     "metadata": {},
     "output_type": "execute_result"
    }
   ],
   "source": [
    "from torch.distributions.laplace import Laplace\n",
    "dist = Laplace(torch.tensor([10.0]), torch.tensor([0.990]))\n",
    "dist.sample()"
   ]
  },
  {
   "cell_type": "code",
   "execution_count": 145,
   "metadata": {},
   "outputs": [
    {
     "data": {
      "text/plain": [
       "tensor([101.3155])"
      ]
     },
     "execution_count": 145,
     "metadata": {},
     "output_type": "execute_result"
    }
   ],
   "source": [
    "from torch.distributions.normal import Normal\n",
    "dist = Normal(torch.tensor([100.0]), torch.tensor([10.0]))\n",
    "\n",
    "dist.sample()"
   ]
  },
  {
   "cell_type": "code",
   "execution_count": null,
   "metadata": {},
   "outputs": [],
   "source": []
  }
 ],
 "metadata": {
  "kernelspec": {
   "display_name": "base",
   "language": "python",
   "name": "python3"
  },
  "language_info": {
   "codemirror_mode": {
    "name": "ipython",
    "version": 3
   },
   "file_extension": ".py",
   "mimetype": "text/x-python",
   "name": "python",
   "nbconvert_exporter": "python",
   "pygments_lexer": "ipython3",
   "version": "3.9.13"
  },
  "orig_nbformat": 4,
  "vscode": {
   "interpreter": {
    "hash": "ad2bdc8ecc057115af97d19610ffacc2b4e99fae6737bb82f5d7fb13d2f2c186"
   }
  }
 },
 "nbformat": 4,
 "nbformat_minor": 2
}
