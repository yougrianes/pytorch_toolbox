{
 "cells": [
  {
   "cell_type": "code",
   "execution_count": 20,
   "metadata": {},
   "outputs": [],
   "source": [
    "import torch\n",
    "\n",
    "y = torch.randn(1,2,3,4,5)"
   ]
  },
  {
   "cell_type": "code",
   "execution_count": 21,
   "metadata": {},
   "outputs": [],
   "source": [
    "assert(torch.is_tensor(y))"
   ]
  },
  {
   "cell_type": "code",
   "execution_count": 22,
   "metadata": {},
   "outputs": [],
   "source": [
    "assert(not torch.is_storage(y))"
   ]
  },
  {
   "cell_type": "code",
   "execution_count": 23,
   "metadata": {},
   "outputs": [
    {
     "name": "stdout",
     "output_type": "stream",
     "text": [
      "120\n"
     ]
    }
   ],
   "source": [
    "print(torch.numel(y))"
   ]
  },
  {
   "cell_type": "code",
   "execution_count": 24,
   "metadata": {},
   "outputs": [
    {
     "name": "stdout",
     "output_type": "stream",
     "text": [
      "tensor([[[[[-0.3844,  1.6452,  0.2411,  0.8813, -3.9334],\n",
      "           [-0.1088, -0.2413, -2.0714, -0.4838,  0.9344],\n",
      "           [ 1.2391, -2.3255, -0.5204, -0.5000,  0.1336],\n",
      "           [-0.1430,  0.1191,  0.8325,  0.8536, -0.1060]],\n",
      "\n",
      "          [[-0.3402,  0.1573,  2.0214, -1.4418, -0.6133],\n",
      "           [ 0.7442, -0.1030, -0.1192,  0.8370, -0.7131],\n",
      "           [-1.3718,  0.3658, -2.0196, -0.0527,  1.7032],\n",
      "           [-2.4950, -0.5343,  0.3110, -0.0647,  1.4591]],\n",
      "\n",
      "          [[-1.6840,  0.7531, -0.0335,  2.1366,  0.6497],\n",
      "           [ 0.2644,  1.0670, -0.6893,  0.7579,  0.3606],\n",
      "           [ 0.5217, -1.3710,  0.1513,  2.1667, -0.3174],\n",
      "           [ 1.1552, -0.0937, -0.8619, -0.2699,  0.7279]]],\n",
      "\n",
      "\n",
      "         [[[ 0.0299,  0.1891, -0.4900,  0.7757, -0.5384],\n",
      "           [-1.2646, -1.3479,  0.9535,  0.3745, -1.3010],\n",
      "           [-0.2151, -0.6806,  1.0854, -1.2240, -0.8809],\n",
      "           [-1.1643, -1.2585, -0.2879,  0.0185,  1.2190]],\n",
      "\n",
      "          [[ 0.9874,  0.3270,  0.8481, -0.4816,  0.9104],\n",
      "           [ 0.3813,  1.3668,  0.5437, -1.4585, -0.1397],\n",
      "           [ 1.1112,  1.6905, -0.7144,  1.8625, -0.2587],\n",
      "           [-0.3617,  1.2125, -0.7011, -0.9547, -1.6519]],\n",
      "\n",
      "          [[ 0.8001, -1.0464, -1.3003, -0.7223, -0.2737],\n",
      "           [-0.2219, -1.5902, -2.2346, -0.4898,  0.5827],\n",
      "           [ 0.6266, -1.7063,  0.4279, -1.8613,  0.8782],\n",
      "           [-0.4771, -0.2928, -0.4459,  0.4538,  0.3860]]]]])\n"
     ]
    }
   ],
   "source": [
    "print(y)"
   ]
  },
  {
   "cell_type": "code",
   "execution_count": 25,
   "metadata": {},
   "outputs": [
    {
     "data": {
      "text/plain": [
       "tensor([[0., 0., 0., 0.],\n",
       "        [0., 0., 0., 0.],\n",
       "        [0., 0., 0., 0.],\n",
       "        [0., 0., 0., 0.]])"
      ]
     },
     "execution_count": 25,
     "metadata": {},
     "output_type": "execute_result"
    }
   ],
   "source": [
    "torch.zeros(4,4)"
   ]
  },
  {
   "cell_type": "code",
   "execution_count": 26,
   "metadata": {},
   "outputs": [
    {
     "data": {
      "text/plain": [
       "16"
      ]
     },
     "execution_count": 26,
     "metadata": {},
     "output_type": "execute_result"
    }
   ],
   "source": [
    "torch.numel(torch.zeros(4,4))"
   ]
  },
  {
   "cell_type": "code",
   "execution_count": 27,
   "metadata": {},
   "outputs": [
    {
     "data": {
      "text/plain": [
       "tensor([[1., 0., 0., 0.],\n",
       "        [0., 1., 0., 0.],\n",
       "        [0., 0., 1., 0.]])"
      ]
     },
     "execution_count": 27,
     "metadata": {},
     "output_type": "execute_result"
    }
   ],
   "source": [
    "torch.eye(3,4)"
   ]
  },
  {
   "cell_type": "code",
   "execution_count": 28,
   "metadata": {},
   "outputs": [
    {
     "data": {
      "text/plain": [
       "tensor([[1., 0., 0.],\n",
       "        [0., 1., 0.],\n",
       "        [0., 0., 1.],\n",
       "        [0., 0., 0.]])"
      ]
     },
     "execution_count": 28,
     "metadata": {},
     "output_type": "execute_result"
    }
   ],
   "source": [
    "torch.eye(4,3)"
   ]
  },
  {
   "cell_type": "code",
   "execution_count": 29,
   "metadata": {},
   "outputs": [],
   "source": [
    "import numpy as np\n",
    "y1 = np.array(y)"
   ]
  },
  {
   "cell_type": "code",
   "execution_count": 30,
   "metadata": {},
   "outputs": [
    {
     "data": {
      "text/plain": [
       "array([[[[[-0.38436955,  1.645234  ,  0.2410805 ,  0.88128924,\n",
       "           -3.9333868 ],\n",
       "          [-0.10884347, -0.2412626 , -2.0713708 , -0.48380375,\n",
       "            0.9344038 ],\n",
       "          [ 1.2391218 , -2.32552   , -0.5203861 , -0.5000376 ,\n",
       "            0.13356239],\n",
       "          [-0.14296795,  0.11905625,  0.8325026 ,  0.8536404 ,\n",
       "           -0.10603266]],\n",
       "\n",
       "         [[-0.3401557 ,  0.15734148,  2.0214345 , -1.441779  ,\n",
       "           -0.6133114 ],\n",
       "          [ 0.74423546, -0.10296459, -0.11915824,  0.8369684 ,\n",
       "           -0.7130541 ],\n",
       "          [-1.3718362 ,  0.36578277, -2.0195832 , -0.05274539,\n",
       "            1.7032485 ],\n",
       "          [-2.4950163 , -0.5343319 ,  0.3110292 , -0.06474748,\n",
       "            1.4591235 ]],\n",
       "\n",
       "         [[-1.6839694 ,  0.753084  , -0.03346388,  2.136644  ,\n",
       "            0.64971715],\n",
       "          [ 0.26438367,  1.0670043 , -0.68928254,  0.7579049 ,\n",
       "            0.36056983],\n",
       "          [ 0.5216868 , -1.3709745 ,  0.15132241,  2.1666567 ,\n",
       "           -0.31738645],\n",
       "          [ 1.1552271 , -0.09368095, -0.8619111 , -0.2699231 ,\n",
       "            0.7279458 ]]],\n",
       "\n",
       "\n",
       "        [[[ 0.02994363,  0.18910584, -0.4899578 ,  0.7757489 ,\n",
       "           -0.53844   ],\n",
       "          [-1.2645556 , -1.3479153 ,  0.95353657,  0.3745444 ,\n",
       "           -1.301038  ],\n",
       "          [-0.21509047, -0.68057775,  1.0853715 , -1.2240388 ,\n",
       "           -0.8809132 ],\n",
       "          [-1.1643162 , -1.2585334 , -0.28793472,  0.0184845 ,\n",
       "            1.2190286 ]],\n",
       "\n",
       "         [[ 0.9873622 ,  0.3269996 ,  0.84813035, -0.48160842,\n",
       "            0.91042143],\n",
       "          [ 0.38128963,  1.3667579 ,  0.54369116, -1.458514  ,\n",
       "           -0.13971783],\n",
       "          [ 1.1112006 ,  1.6904731 , -0.7144363 ,  1.8624809 ,\n",
       "           -0.25869375],\n",
       "          [-0.36168754,  1.2125278 , -0.7011364 , -0.9547093 ,\n",
       "           -1.6518897 ]],\n",
       "\n",
       "         [[ 0.800074  , -1.0464194 , -1.3002733 , -0.72228736,\n",
       "           -0.27369252],\n",
       "          [-0.22193767, -1.5901917 , -2.2345507 , -0.48976827,\n",
       "            0.58268005],\n",
       "          [ 0.6265572 , -1.7063102 ,  0.42789188, -1.861301  ,\n",
       "            0.87823373],\n",
       "          [-0.47714344, -0.29275924, -0.44590876,  0.45376873,\n",
       "            0.38601407]]]]], dtype=float32)"
      ]
     },
     "execution_count": 30,
     "metadata": {},
     "output_type": "execute_result"
    }
   ],
   "source": [
    "y1"
   ]
  },
  {
   "cell_type": "code",
   "execution_count": 31,
   "metadata": {},
   "outputs": [
    {
     "data": {
      "text/plain": [
       "tensor([[[[[-0.3844,  1.6452,  0.2411,  0.8813, -3.9334],\n",
       "           [-0.1088, -0.2413, -2.0714, -0.4838,  0.9344],\n",
       "           [ 1.2391, -2.3255, -0.5204, -0.5000,  0.1336],\n",
       "           [-0.1430,  0.1191,  0.8325,  0.8536, -0.1060]],\n",
       "\n",
       "          [[-0.3402,  0.1573,  2.0214, -1.4418, -0.6133],\n",
       "           [ 0.7442, -0.1030, -0.1192,  0.8370, -0.7131],\n",
       "           [-1.3718,  0.3658, -2.0196, -0.0527,  1.7032],\n",
       "           [-2.4950, -0.5343,  0.3110, -0.0647,  1.4591]],\n",
       "\n",
       "          [[-1.6840,  0.7531, -0.0335,  2.1366,  0.6497],\n",
       "           [ 0.2644,  1.0670, -0.6893,  0.7579,  0.3606],\n",
       "           [ 0.5217, -1.3710,  0.1513,  2.1667, -0.3174],\n",
       "           [ 1.1552, -0.0937, -0.8619, -0.2699,  0.7279]]],\n",
       "\n",
       "\n",
       "         [[[ 0.0299,  0.1891, -0.4900,  0.7757, -0.5384],\n",
       "           [-1.2646, -1.3479,  0.9535,  0.3745, -1.3010],\n",
       "           [-0.2151, -0.6806,  1.0854, -1.2240, -0.8809],\n",
       "           [-1.1643, -1.2585, -0.2879,  0.0185,  1.2190]],\n",
       "\n",
       "          [[ 0.9874,  0.3270,  0.8481, -0.4816,  0.9104],\n",
       "           [ 0.3813,  1.3668,  0.5437, -1.4585, -0.1397],\n",
       "           [ 1.1112,  1.6905, -0.7144,  1.8625, -0.2587],\n",
       "           [-0.3617,  1.2125, -0.7011, -0.9547, -1.6519]],\n",
       "\n",
       "          [[ 0.8001, -1.0464, -1.3003, -0.7223, -0.2737],\n",
       "           [-0.2219, -1.5902, -2.2346, -0.4898,  0.5827],\n",
       "           [ 0.6266, -1.7063,  0.4279, -1.8613,  0.8782],\n",
       "           [-0.4771, -0.2928, -0.4459,  0.4538,  0.3860]]]]])"
      ]
     },
     "execution_count": 31,
     "metadata": {},
     "output_type": "execute_result"
    }
   ],
   "source": [
    "torch.from_numpy(y1)"
   ]
  },
  {
   "cell_type": "code",
   "execution_count": 32,
   "metadata": {},
   "outputs": [
    {
     "data": {
      "text/plain": [
       "tensor([ 2.0000,  2.3333,  2.6667,  3.0000,  3.3333,  3.6667,  4.0000,  4.3333,\n",
       "         4.6667,  5.0000,  5.3333,  5.6667,  6.0000,  6.3333,  6.6667,  7.0000,\n",
       "         7.3333,  7.6667,  8.0000,  8.3333,  8.6667,  9.0000,  9.3333,  9.6667,\n",
       "        10.0000])"
      ]
     },
     "execution_count": 32,
     "metadata": {},
     "output_type": "execute_result"
    }
   ],
   "source": [
    "torch.linspace(2,10, steps=25)"
   ]
  },
  {
   "cell_type": "code",
   "execution_count": 33,
   "metadata": {},
   "outputs": [
    {
     "data": {
      "text/plain": [
       "tensor([1.0000e-10, 2.6827e-09, 7.1969e-08, 1.9307e-06, 5.1795e-05, 1.3895e-03,\n",
       "        3.7276e-02, 1.0000e+00, 2.6827e+01, 7.1969e+02, 1.9307e+04, 5.1795e+05,\n",
       "        1.3895e+07, 3.7276e+08, 1.0000e+10])"
      ]
     },
     "execution_count": 33,
     "metadata": {},
     "output_type": "execute_result"
    }
   ],
   "source": [
    "torch.logspace(start=-10, end=10,steps=15)"
   ]
  },
  {
   "cell_type": "code",
   "execution_count": 34,
   "metadata": {},
   "outputs": [
    {
     "data": {
      "text/plain": [
       "tensor([0.8961, 0.3223, 0.1449, 0.9818, 0.6321, 0.9429, 0.3904, 0.3355, 0.6562,\n",
       "        0.5363])"
      ]
     },
     "execution_count": 34,
     "metadata": {},
     "output_type": "execute_result"
    }
   ],
   "source": [
    "torch.rand(10)"
   ]
  },
  {
   "cell_type": "code",
   "execution_count": 35,
   "metadata": {},
   "outputs": [
    {
     "data": {
      "text/plain": [
       "tensor([[0.7870, 0.6531, 0.8814, 0.7327, 0.7986],\n",
       "        [0.0307, 0.4319, 0.3651, 0.4040, 0.0350],\n",
       "        [0.3728, 0.0559, 0.4866, 0.3741, 0.9453],\n",
       "        [0.8545, 0.7525, 0.6163, 0.8299, 0.1881]])"
      ]
     },
     "execution_count": 35,
     "metadata": {},
     "output_type": "execute_result"
    }
   ],
   "source": [
    "torch.rand(4,5)"
   ]
  },
  {
   "cell_type": "code",
   "execution_count": 36,
   "metadata": {},
   "outputs": [
    {
     "data": {
      "text/plain": [
       "tensor([3, 4, 1, 6, 9, 8, 2, 7, 5, 0])"
      ]
     },
     "execution_count": 36,
     "metadata": {},
     "output_type": "execute_result"
    }
   ],
   "source": [
    "torch.randperm(10)"
   ]
  },
  {
   "cell_type": "code",
   "execution_count": 37,
   "metadata": {},
   "outputs": [
    {
     "data": {
      "text/plain": [
       "tensor([10, 12, 14, 16, 18, 20, 22, 24, 26, 28, 30, 32, 34, 36, 38])"
      ]
     },
     "execution_count": 37,
     "metadata": {},
     "output_type": "execute_result"
    }
   ],
   "source": [
    "torch.arange(10,40,2)"
   ]
  },
  {
   "cell_type": "code",
   "execution_count": 38,
   "metadata": {},
   "outputs": [
    {
     "data": {
      "text/plain": [
       "tensor([10, 11, 12, 13, 14, 15, 16, 17, 18, 19])"
      ]
     },
     "execution_count": 38,
     "metadata": {},
     "output_type": "execute_result"
    }
   ],
   "source": [
    "torch.arange(10,20)"
   ]
  },
  {
   "cell_type": "code",
   "execution_count": 39,
   "metadata": {},
   "outputs": [],
   "source": [
    "d = torch.randn(4,5)"
   ]
  },
  {
   "cell_type": "code",
   "execution_count": 40,
   "metadata": {},
   "outputs": [
    {
     "data": {
      "text/plain": [
       "tensor(0)"
      ]
     },
     "execution_count": 40,
     "metadata": {},
     "output_type": "execute_result"
    }
   ],
   "source": [
    "torch.argmin(d)"
   ]
  },
  {
   "cell_type": "code",
   "execution_count": 41,
   "metadata": {},
   "outputs": [
    {
     "data": {
      "text/plain": [
       "tensor([0, 3, 1, 1, 0])"
      ]
     },
     "execution_count": 41,
     "metadata": {},
     "output_type": "execute_result"
    }
   ],
   "source": [
    "torch.argmin(d, dim=0)"
   ]
  },
  {
   "cell_type": "code",
   "execution_count": 42,
   "metadata": {},
   "outputs": [
    {
     "data": {
      "text/plain": [
       "tensor([0, 3, 3, 3])"
      ]
     },
     "execution_count": 42,
     "metadata": {},
     "output_type": "execute_result"
    }
   ],
   "source": [
    "torch.argmin(d, dim=1)"
   ]
  },
  {
   "cell_type": "code",
   "execution_count": 43,
   "metadata": {},
   "outputs": [
    {
     "data": {
      "text/plain": [
       "tensor([2, 0, 4, 2])"
      ]
     },
     "execution_count": 43,
     "metadata": {},
     "output_type": "execute_result"
    }
   ],
   "source": [
    "torch.argmax(d, dim=1)"
   ]
  },
  {
   "cell_type": "code",
   "execution_count": 44,
   "metadata": {},
   "outputs": [],
   "source": [
    "x = torch.randn(4,5)"
   ]
  },
  {
   "cell_type": "code",
   "execution_count": 45,
   "metadata": {},
   "outputs": [
    {
     "data": {
      "text/plain": [
       "tensor([[ 0.3947, -0.4170,  1.3281, -0.0438,  0.3440],\n",
       "        [ 1.7530, -0.1202, -0.0493, -0.7183, -1.9545],\n",
       "        [-0.7313,  0.2281, -0.5024, -1.8715, -0.2036],\n",
       "        [-0.0382,  0.7306,  0.8513,  1.1914,  2.1384],\n",
       "        [ 0.3947, -0.4170,  1.3281, -0.0438,  0.3440],\n",
       "        [ 1.7530, -0.1202, -0.0493, -0.7183, -1.9545],\n",
       "        [-0.7313,  0.2281, -0.5024, -1.8715, -0.2036],\n",
       "        [-0.0382,  0.7306,  0.8513,  1.1914,  2.1384]])"
      ]
     },
     "execution_count": 45,
     "metadata": {},
     "output_type": "execute_result"
    }
   ],
   "source": [
    "torch.cat((x,x))"
   ]
  },
  {
   "cell_type": "code",
   "execution_count": 46,
   "metadata": {},
   "outputs": [
    {
     "data": {
      "text/plain": [
       "tensor([[ 0.3947, -0.4170,  1.3281, -0.0438,  0.3440],\n",
       "        [ 1.7530, -0.1202, -0.0493, -0.7183, -1.9545],\n",
       "        [-0.7313,  0.2281, -0.5024, -1.8715, -0.2036],\n",
       "        [-0.0382,  0.7306,  0.8513,  1.1914,  2.1384],\n",
       "        [ 0.3947, -0.4170,  1.3281, -0.0438,  0.3440],\n",
       "        [ 1.7530, -0.1202, -0.0493, -0.7183, -1.9545],\n",
       "        [-0.7313,  0.2281, -0.5024, -1.8715, -0.2036],\n",
       "        [-0.0382,  0.7306,  0.8513,  1.1914,  2.1384]])"
      ]
     },
     "execution_count": 46,
     "metadata": {},
     "output_type": "execute_result"
    }
   ],
   "source": [
    "torch.cat((x,x),0)"
   ]
  },
  {
   "cell_type": "code",
   "execution_count": 47,
   "metadata": {},
   "outputs": [
    {
     "data": {
      "text/plain": [
       "tensor([[ 0.3947, -0.4170,  1.3281, -0.0438,  0.3440,  0.3947, -0.4170,  1.3281,\n",
       "         -0.0438,  0.3440],\n",
       "        [ 1.7530, -0.1202, -0.0493, -0.7183, -1.9545,  1.7530, -0.1202, -0.0493,\n",
       "         -0.7183, -1.9545],\n",
       "        [-0.7313,  0.2281, -0.5024, -1.8715, -0.2036, -0.7313,  0.2281, -0.5024,\n",
       "         -1.8715, -0.2036],\n",
       "        [-0.0382,  0.7306,  0.8513,  1.1914,  2.1384, -0.0382,  0.7306,  0.8513,\n",
       "          1.1914,  2.1384]])"
      ]
     },
     "execution_count": 47,
     "metadata": {},
     "output_type": "execute_result"
    }
   ],
   "source": [
    "torch.cat((x,x),1)"
   ]
  },
  {
   "cell_type": "code",
   "execution_count": 48,
   "metadata": {},
   "outputs": [
    {
     "name": "stdout",
     "output_type": "stream",
     "text": [
      "tensor([[ 1.1466,  2.2229, -2.3152,  0.2896],\n",
      "        [ 3.0416,  2.3078,  1.0196, -1.0720],\n",
      "        [ 0.2858,  0.1514, -0.3718,  1.2415],\n",
      "        [-1.0209, -0.6524,  1.1536,  1.2637]])\n"
     ]
    },
    {
     "data": {
      "text/plain": [
       "(tensor([[ 1.1466,  2.2229, -2.3152,  0.2896],\n",
       "         [ 3.0416,  2.3078,  1.0196, -1.0720]]),\n",
       " tensor([[ 0.2858,  0.1514, -0.3718,  1.2415],\n",
       "         [-1.0209, -0.6524,  1.1536,  1.2637]]))"
      ]
     },
     "execution_count": 48,
     "metadata": {},
     "output_type": "execute_result"
    }
   ],
   "source": [
    "a = torch.randn(4,4)\n",
    "print(a)\n",
    "torch.chunk(a,2)"
   ]
  },
  {
   "cell_type": "code",
   "execution_count": 50,
   "metadata": {},
   "outputs": [
    {
     "data": {
      "text/plain": [
       "(tensor([[ 1.1466,  2.2229],\n",
       "         [ 3.0416,  2.3078],\n",
       "         [ 0.2858,  0.1514],\n",
       "         [-1.0209, -0.6524]]),\n",
       " tensor([[-2.3152,  0.2896],\n",
       "         [ 1.0196, -1.0720],\n",
       "         [-0.3718,  1.2415],\n",
       "         [ 1.1536,  1.2637]]))"
      ]
     },
     "execution_count": 50,
     "metadata": {},
     "output_type": "execute_result"
    }
   ],
   "source": [
    "torch.chunk(a,2,1)"
   ]
  },
  {
   "cell_type": "code",
   "execution_count": 51,
   "metadata": {},
   "outputs": [
    {
     "data": {
      "text/plain": [
       "tensor([[11., 22.],\n",
       "        [23., 13.]])"
      ]
     },
     "execution_count": 51,
     "metadata": {},
     "output_type": "execute_result"
    }
   ],
   "source": [
    "torch.Tensor([[11,22],[23,13]])"
   ]
  },
  {
   "cell_type": "code",
   "execution_count": 64,
   "metadata": {},
   "outputs": [
    {
     "data": {
      "text/plain": [
       "tensor([[23., 13.],\n",
       "        [23., 22.]])"
      ]
     },
     "execution_count": 64,
     "metadata": {},
     "output_type": "execute_result"
    }
   ],
   "source": [
    "torch.gather(torch.Tensor([[11,22],[23,13]]),0,torch.LongTensor([[1,1],[1,0]]))"
   ]
  },
  {
   "cell_type": "code",
   "execution_count": 65,
   "metadata": {},
   "outputs": [],
   "source": [
    "a = torch.randn(4,4)"
   ]
  },
  {
   "cell_type": "code",
   "execution_count": 66,
   "metadata": {},
   "outputs": [],
   "source": [
    "indices = torch.LongTensor([0,2])"
   ]
  },
  {
   "cell_type": "code",
   "execution_count": 67,
   "metadata": {},
   "outputs": [
    {
     "name": "stdout",
     "output_type": "stream",
     "text": [
      "tensor([[-0.0157, -0.6910,  0.1733,  1.1875],\n",
      "        [ 0.3440, -0.1073,  0.0034, -0.1263],\n",
      "        [ 0.0072, -0.8896,  0.0521,  0.0128],\n",
      "        [ 1.0221, -0.0056,  0.5239,  1.9186]])\n"
     ]
    }
   ],
   "source": [
    "print(a)"
   ]
  },
  {
   "cell_type": "code",
   "execution_count": 68,
   "metadata": {},
   "outputs": [
    {
     "data": {
      "text/plain": [
       "tensor([[-0.0157, -0.6910,  0.1733,  1.1875],\n",
       "        [ 0.0072, -0.8896,  0.0521,  0.0128]])"
      ]
     },
     "execution_count": 68,
     "metadata": {},
     "output_type": "execute_result"
    }
   ],
   "source": [
    "torch.index_select(a,0,indices)"
   ]
  },
  {
   "cell_type": "code",
   "execution_count": 69,
   "metadata": {},
   "outputs": [
    {
     "data": {
      "text/plain": [
       "tensor([[-0.0157,  0.1733],\n",
       "        [ 0.3440,  0.0034],\n",
       "        [ 0.0072,  0.0521],\n",
       "        [ 1.0221,  0.5239]])"
      ]
     },
     "execution_count": 69,
     "metadata": {},
     "output_type": "execute_result"
    }
   ],
   "source": [
    "torch.index_select(a,1,indices)"
   ]
  },
  {
   "cell_type": "code",
   "execution_count": 70,
   "metadata": {},
   "outputs": [
    {
     "data": {
      "text/plain": [
       "tensor([[0],\n",
       "        [2]])"
      ]
     },
     "execution_count": 70,
     "metadata": {},
     "output_type": "execute_result"
    }
   ],
   "source": [
    "torch.nonzero(torch.tensor([10,00,23,0,0.0]))"
   ]
  },
  {
   "cell_type": "code",
   "execution_count": 71,
   "metadata": {},
   "outputs": [
    {
     "data": {
      "text/plain": [
       "(tensor([12, 21]), tensor([23, 23]), tensor([4, 6]), tensor([213]))"
      ]
     },
     "execution_count": 71,
     "metadata": {},
     "output_type": "execute_result"
    }
   ],
   "source": [
    "torch.split(torch.tensor([12,21,23,23,4,6,213]),2)"
   ]
  },
  {
   "cell_type": "code",
   "execution_count": 72,
   "metadata": {},
   "outputs": [
    {
     "data": {
      "text/plain": [
       "(tensor([123, 124, 365]), tensor([ 23, 457,   1]), tensor([  4, 235]))"
      ]
     },
     "execution_count": 72,
     "metadata": {},
     "output_type": "execute_result"
    }
   ],
   "source": [
    "torch.split(torch.tensor([123,124,365,23,457,1,4,235]),3)"
   ]
  },
  {
   "cell_type": "code",
   "execution_count": 73,
   "metadata": {},
   "outputs": [
    {
     "data": {
      "text/plain": [
       "tensor([[ 0.3947, -0.4170,  1.3281, -0.0438,  0.3440],\n",
       "        [ 1.7530, -0.1202, -0.0493, -0.7183, -1.9545],\n",
       "        [-0.7313,  0.2281, -0.5024, -1.8715, -0.2036],\n",
       "        [-0.0382,  0.7306,  0.8513,  1.1914,  2.1384]])"
      ]
     },
     "execution_count": 73,
     "metadata": {},
     "output_type": "execute_result"
    }
   ],
   "source": [
    "x"
   ]
  },
  {
   "cell_type": "code",
   "execution_count": 74,
   "metadata": {},
   "outputs": [
    {
     "data": {
      "text/plain": [
       "tensor([[ 0.3947,  1.7530, -0.7313, -0.0382],\n",
       "        [-0.4170, -0.1202,  0.2281,  0.7306],\n",
       "        [ 1.3281, -0.0493, -0.5024,  0.8513],\n",
       "        [-0.0438, -0.7183, -1.8715,  1.1914],\n",
       "        [ 0.3440, -1.9545, -0.2036,  2.1384]])"
      ]
     },
     "execution_count": 74,
     "metadata": {},
     "output_type": "execute_result"
    }
   ],
   "source": [
    "x.t()"
   ]
  },
  {
   "cell_type": "code",
   "execution_count": 75,
   "metadata": {},
   "outputs": [
    {
     "data": {
      "text/plain": [
       "tensor([[ 0.3947,  1.7530, -0.7313, -0.0382],\n",
       "        [-0.4170, -0.1202,  0.2281,  0.7306],\n",
       "        [ 1.3281, -0.0493, -0.5024,  0.8513],\n",
       "        [-0.0438, -0.7183, -1.8715,  1.1914],\n",
       "        [ 0.3440, -1.9545, -0.2036,  2.1384]])"
      ]
     },
     "execution_count": 75,
     "metadata": {},
     "output_type": "execute_result"
    }
   ],
   "source": [
    "x.transpose(1,0)"
   ]
  },
  {
   "cell_type": "code",
   "execution_count": 76,
   "metadata": {},
   "outputs": [
    {
     "data": {
      "text/plain": [
       "tensor([[ 0.3947, -0.4170,  1.3281, -0.0438,  0.3440],\n",
       "        [ 1.7530, -0.1202, -0.0493, -0.7183, -1.9545],\n",
       "        [-0.7313,  0.2281, -0.5024, -1.8715, -0.2036],\n",
       "        [-0.0382,  0.7306,  0.8513,  1.1914,  2.1384]])"
      ]
     },
     "execution_count": 76,
     "metadata": {},
     "output_type": "execute_result"
    }
   ],
   "source": [
    "x"
   ]
  },
  {
   "cell_type": "code",
   "execution_count": 77,
   "metadata": {},
   "outputs": [
    {
     "data": {
      "text/plain": [
       "(tensor([ 0.3947,  1.7530, -0.7313, -0.0382]),\n",
       " tensor([-0.4170, -0.1202,  0.2281,  0.7306]),\n",
       " tensor([ 1.3281, -0.0493, -0.5024,  0.8513]),\n",
       " tensor([-0.0438, -0.7183, -1.8715,  1.1914]),\n",
       " tensor([ 0.3440, -1.9545, -0.2036,  2.1384]))"
      ]
     },
     "execution_count": 77,
     "metadata": {},
     "output_type": "execute_result"
    }
   ],
   "source": [
    "torch.unbind(x,1)"
   ]
  },
  {
   "cell_type": "code",
   "execution_count": 78,
   "metadata": {},
   "outputs": [
    {
     "data": {
      "text/plain": [
       "(tensor([ 0.3947, -0.4170,  1.3281, -0.0438,  0.3440]),\n",
       " tensor([ 1.7530, -0.1202, -0.0493, -0.7183, -1.9545]),\n",
       " tensor([-0.7313,  0.2281, -0.5024, -1.8715, -0.2036]),\n",
       " tensor([-0.0382,  0.7306,  0.8513,  1.1914,  2.1384]))"
      ]
     },
     "execution_count": 78,
     "metadata": {},
     "output_type": "execute_result"
    }
   ],
   "source": [
    "torch.unbind(x)"
   ]
  },
  {
   "cell_type": "code",
   "execution_count": 80,
   "metadata": {},
   "outputs": [
    {
     "data": {
      "text/plain": [
       "(tensor([ 0.3947,  1.7530, -0.7313, -0.0382]),\n",
       " tensor([-0.4170, -0.1202,  0.2281,  0.7306]),\n",
       " tensor([ 1.3281, -0.0493, -0.5024,  0.8513]),\n",
       " tensor([-0.0438, -0.7183, -1.8715,  1.1914]),\n",
       " tensor([ 0.3440, -1.9545, -0.2036,  2.1384]))"
      ]
     },
     "execution_count": 80,
     "metadata": {},
     "output_type": "execute_result"
    }
   ],
   "source": [
    "torch.unbind(x.transpose(1,0))"
   ]
  },
  {
   "cell_type": "code",
   "execution_count": 81,
   "metadata": {},
   "outputs": [
    {
     "name": "stdout",
     "output_type": "stream",
     "text": [
      "tensor([[ 0.3947, -0.4170,  1.3281, -0.0438,  0.3440],\n",
      "        [ 1.7530, -0.1202, -0.0493, -0.7183, -1.9545],\n",
      "        [-0.7313,  0.2281, -0.5024, -1.8715, -0.2036],\n",
      "        [-0.0382,  0.7306,  0.8513,  1.1914,  2.1384]]) tensor([[20.3947, 19.5830, 21.3281, 19.9562, 20.3440],\n",
      "        [21.7530, 19.8798, 19.9507, 19.2817, 18.0455],\n",
      "        [19.2687, 20.2281, 19.4976, 18.1285, 19.7964],\n",
      "        [19.9618, 20.7306, 20.8513, 21.1914, 22.1384]])\n"
     ]
    }
   ],
   "source": [
    "print(x, torch.add(x,20))"
   ]
  },
  {
   "cell_type": "code",
   "execution_count": 82,
   "metadata": {},
   "outputs": [
    {
     "name": "stdout",
     "output_type": "stream",
     "text": [
      "tensor([[ 0.3947, -0.4170,  1.3281, -0.0438,  0.3440],\n",
      "        [ 1.7530, -0.1202, -0.0493, -0.7183, -1.9545],\n",
      "        [-0.7313,  0.2281, -0.5024, -1.8715, -0.2036],\n",
      "        [-0.0382,  0.7306,  0.8513,  1.1914,  2.1384]]) tensor([[ 0.7894, -0.8340,  2.6562, -0.0876,  0.6879],\n",
      "        [ 3.5059, -0.2405, -0.0986, -1.4365, -3.9089],\n",
      "        [-1.4626,  0.4561, -1.0048, -3.7430, -0.4071],\n",
      "        [-0.0763,  1.4613,  1.7027,  2.3829,  4.2769]])\n"
     ]
    }
   ],
   "source": [
    "print(x, torch.mul(x,2))"
   ]
  },
  {
   "cell_type": "code",
   "execution_count": 83,
   "metadata": {},
   "outputs": [],
   "source": [
    "intercept = torch.randn(1)"
   ]
  },
  {
   "cell_type": "code",
   "execution_count": 84,
   "metadata": {},
   "outputs": [],
   "source": [
    "x = torch.randn(2,2)"
   ]
  },
  {
   "cell_type": "code",
   "execution_count": 85,
   "metadata": {},
   "outputs": [
    {
     "data": {
      "text/plain": [
       "(tensor([0.3404]),\n",
       " tensor([[ 0.5183,  0.0186],\n",
       "         [-0.4665,  0.5661]]))"
      ]
     },
     "execution_count": 85,
     "metadata": {},
     "output_type": "execute_result"
    }
   ],
   "source": [
    "intercept,x"
   ]
  },
  {
   "cell_type": "code",
   "execution_count": 86,
   "metadata": {},
   "outputs": [
    {
     "data": {
      "text/plain": [
       "0.7456"
      ]
     },
     "execution_count": 86,
     "metadata": {},
     "output_type": "execute_result"
    }
   ],
   "source": [
    "beta = 0.7456\n",
    "beta"
   ]
  },
  {
   "cell_type": "code",
   "execution_count": 87,
   "metadata": {},
   "outputs": [
    {
     "data": {
      "text/plain": [
       "tensor([[ 0.1764,  0.0063],\n",
       "        [-0.1588,  0.1927]])"
      ]
     },
     "execution_count": 87,
     "metadata": {},
     "output_type": "execute_result"
    }
   ],
   "source": [
    "torch.mul(intercept, x)"
   ]
  },
  {
   "cell_type": "code",
   "execution_count": 88,
   "metadata": {},
   "outputs": [
    {
     "data": {
      "text/plain": [
       "tensor([[ 0.3864,  0.0139],\n",
       "        [-0.3478,  0.4221]])"
      ]
     },
     "execution_count": 88,
     "metadata": {},
     "output_type": "execute_result"
    }
   ],
   "source": [
    "torch.mul(x, beta)"
   ]
  },
  {
   "cell_type": "code",
   "execution_count": 90,
   "metadata": {},
   "outputs": [
    {
     "data": {
      "text/plain": [
       "tensor([[ 0.5629,  0.0202],\n",
       "        [-0.5066,  0.6148]])"
      ]
     },
     "execution_count": 90,
     "metadata": {},
     "output_type": "execute_result"
    }
   ],
   "source": [
    "torch.add(torch.mul(intercept,x), torch.mul(x,beta))"
   ]
  },
  {
   "cell_type": "code",
   "execution_count": 91,
   "metadata": {},
   "outputs": [
    {
     "data": {
      "text/plain": [
       "tensor([[-0.1117, -0.4966,  0.1631, -0.8817,  0.0539],\n",
       "        [ 0.6684, -0.0597, -0.4675, -0.2153, -0.7141],\n",
       "        [-1.0831, -0.5547,  0.9717, -0.5150,  1.4255],\n",
       "        [ 0.7987, -1.4949,  1.4778, -0.1696, -0.9919],\n",
       "        [-1.4569,  0.2563, -0.4030,  0.4195,  0.9380]])"
      ]
     },
     "execution_count": 91,
     "metadata": {},
     "output_type": "execute_result"
    }
   ],
   "source": [
    "torch.manual_seed(1234)\n",
    "torch.randn(5,5)"
   ]
  },
  {
   "cell_type": "code",
   "execution_count": 92,
   "metadata": {},
   "outputs": [
    {
     "data": {
      "text/plain": [
       "tensor([[-0., -0.,  1., -0.,  1.],\n",
       "        [ 1., -0., -0., -0., -0.],\n",
       "        [-1., -0.,  1., -0.,  2.],\n",
       "        [ 1., -1.,  2., -0., -0.],\n",
       "        [-1.,  1., -0.,  1.,  1.]])"
      ]
     },
     "execution_count": 92,
     "metadata": {},
     "output_type": "execute_result"
    }
   ],
   "source": [
    "torch.manual_seed(1234)\n",
    "torch.ceil(torch.randn(5,5))"
   ]
  },
  {
   "cell_type": "code",
   "execution_count": 93,
   "metadata": {},
   "outputs": [
    {
     "data": {
      "text/plain": [
       "tensor([[-1., -1.,  0., -1.,  0.],\n",
       "        [ 0., -1., -1., -1., -1.],\n",
       "        [-2., -1.,  0., -1.,  1.],\n",
       "        [ 0., -2.,  1., -1., -1.],\n",
       "        [-2.,  0., -1.,  0.,  0.]])"
      ]
     },
     "execution_count": 93,
     "metadata": {},
     "output_type": "execute_result"
    }
   ],
   "source": [
    "torch.manual_seed(1234)\n",
    "torch.floor(torch.randn(5,5))"
   ]
  },
  {
   "cell_type": "code",
   "execution_count": 94,
   "metadata": {},
   "outputs": [
    {
     "data": {
      "text/plain": [
       "tensor([[-0.3000, -0.3000,  0.0000, -0.3000,  0.0000],\n",
       "        [ 0.0000, -0.3000, -0.3000, -0.3000, -0.3000],\n",
       "        [-0.3000, -0.3000,  0.0000, -0.3000,  0.4000],\n",
       "        [ 0.0000, -0.3000,  0.4000, -0.3000, -0.3000],\n",
       "        [-0.3000,  0.0000, -0.3000,  0.0000,  0.0000]])"
      ]
     },
     "execution_count": 94,
     "metadata": {},
     "output_type": "execute_result"
    }
   ],
   "source": [
    "torch.manual_seed(1234)\n",
    "torch.clamp(torch.floor(torch.randn(5,5)), min=-0.3, max=0.4)"
   ]
  },
  {
   "cell_type": "code",
   "execution_count": 95,
   "metadata": {},
   "outputs": [
    {
     "data": {
      "text/plain": [
       "tensor([[-0.3000, -0.3000,  0.0000, -0.3000,  0.0000],\n",
       "        [ 0.0000, -0.3000, -0.3000, -0.3000, -0.3000],\n",
       "        [-0.3000, -0.3000,  0.0000, -0.3000,  1.0000],\n",
       "        [ 0.0000, -0.3000,  1.0000, -0.3000, -0.3000],\n",
       "        [-0.3000,  0.0000, -0.3000,  0.0000,  0.0000]])"
      ]
     },
     "execution_count": 95,
     "metadata": {},
     "output_type": "execute_result"
    }
   ],
   "source": [
    "torch.manual_seed(1234)\n",
    "torch.clamp(torch.floor(torch.randn(5,5)), min=-0.3)"
   ]
  },
  {
   "cell_type": "code",
   "execution_count": 96,
   "metadata": {},
   "outputs": [
    {
     "data": {
      "text/plain": [
       "tensor([[-1.0000, -1.0000,  0.0000, -1.0000,  0.0000],\n",
       "        [ 0.0000, -1.0000, -1.0000, -1.0000, -1.0000],\n",
       "        [-2.0000, -1.0000,  0.0000, -1.0000,  0.3000],\n",
       "        [ 0.0000, -2.0000,  0.3000, -1.0000, -1.0000],\n",
       "        [-2.0000,  0.0000, -1.0000,  0.0000,  0.0000]])"
      ]
     },
     "execution_count": 96,
     "metadata": {},
     "output_type": "execute_result"
    }
   ],
   "source": [
    "torch.manual_seed(1234)\n",
    "torch.clamp(torch.floor(torch.randn(5,5)), max=0.3)"
   ]
  },
  {
   "cell_type": "code",
   "execution_count": 99,
   "metadata": {},
   "outputs": [
    {
     "data": {
      "text/plain": [
       "(tensor([[1.6791, 1.0188],\n",
       "         [0.6272, 1.7614]]),\n",
       " tensor([[0.6791, 0.0188],\n",
       "         [0.6272, 0.7614]]))"
      ]
     },
     "execution_count": 99,
     "metadata": {},
     "output_type": "execute_result"
    }
   ],
   "source": [
    "torch.exp(x),torch.frac(torch.exp(x))"
   ]
  },
  {
   "cell_type": "code",
   "execution_count": 100,
   "metadata": {},
   "outputs": [
    {
     "data": {
      "text/plain": [
       "tensor([[ 0.5183,  0.0186],\n",
       "        [-0.4665,  0.5661]])"
      ]
     },
     "execution_count": 100,
     "metadata": {},
     "output_type": "execute_result"
    }
   ],
   "source": [
    "x"
   ]
  },
  {
   "cell_type": "code",
   "execution_count": 102,
   "metadata": {},
   "outputs": [
    {
     "data": {
      "text/plain": [
       "tensor([[-0.6572, -3.9821],\n",
       "        [    nan, -0.5690]])"
      ]
     },
     "execution_count": 102,
     "metadata": {},
     "output_type": "execute_result"
    }
   ],
   "source": [
    "torch.log(x)"
   ]
  },
  {
   "cell_type": "code",
   "execution_count": 103,
   "metadata": {},
   "outputs": [
    {
     "data": {
      "text/plain": [
       "tensor([[-1.3145, -7.9643],\n",
       "        [-1.5249, -1.1379]])"
      ]
     },
     "execution_count": 103,
     "metadata": {},
     "output_type": "execute_result"
    }
   ],
   "source": [
    "torch.log(torch.pow(x,2))"
   ]
  },
  {
   "cell_type": "code",
   "execution_count": 104,
   "metadata": {},
   "outputs": [
    {
     "data": {
      "text/plain": [
       "tensor([[ 0.5183,  0.0186],\n",
       "        [-0.4665,  0.5661]])"
      ]
     },
     "execution_count": 104,
     "metadata": {},
     "output_type": "execute_result"
    }
   ],
   "source": [
    "x"
   ]
  },
  {
   "cell_type": "code",
   "execution_count": 105,
   "metadata": {},
   "outputs": [
    {
     "data": {
      "text/plain": [
       "tensor([[0.6267, 0.5047],\n",
       "        [0.3854, 0.6379]])"
      ]
     },
     "execution_count": 105,
     "metadata": {},
     "output_type": "execute_result"
    }
   ],
   "source": [
    "torch.sigmoid(x)"
   ]
  },
  {
   "cell_type": "code",
   "execution_count": null,
   "metadata": {},
   "outputs": [],
   "source": [
    "torch.sqrt(x)"
   ]
  }
 ],
 "metadata": {
  "kernelspec": {
   "display_name": "base",
   "language": "python",
   "name": "python3"
  },
  "language_info": {
   "codemirror_mode": {
    "name": "ipython",
    "version": 3
   },
   "file_extension": ".py",
   "mimetype": "text/x-python",
   "name": "python",
   "nbconvert_exporter": "python",
   "pygments_lexer": "ipython3",
   "version": "3.9.13"
  },
  "orig_nbformat": 4,
  "vscode": {
   "interpreter": {
    "hash": "ad2bdc8ecc057115af97d19610ffacc2b4e99fae6737bb82f5d7fb13d2f2c186"
   }
  }
 },
 "nbformat": 4,
 "nbformat_minor": 2
}
